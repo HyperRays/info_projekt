{
 "cells": [
  {
   "cell_type": "code",
   "execution_count": 2,
   "metadata": {},
   "outputs": [
    {
     "ename": "NameError",
     "evalue": "name '__file__' is not defined",
     "output_type": "error",
     "traceback": [
      "\u001b[1;31m---------------------------------------------------------------------------\u001b[0m",
      "\u001b[1;31mNameError\u001b[0m                                 Traceback (most recent call last)",
      "\u001b[1;32mc:\\Users\\Soham's laptop\\Documents\\info_projekt\\opengl_test.ipynb Cell 1\u001b[0m in \u001b[0;36m<cell line: 6>\u001b[1;34m()\u001b[0m\n\u001b[0;32m      <a href='vscode-notebook-cell:/c%3A/Users/Soham%27s%20laptop/Documents/info_projekt/opengl_test.ipynb#W3sZmlsZQ%3D%3D?line=0'>1</a>\u001b[0m \u001b[39mimport\u001b[39;00m \u001b[39mos\u001b[39;00m\n\u001b[0;32m      <a href='vscode-notebook-cell:/c%3A/Users/Soham%27s%20laptop/Documents/info_projekt/opengl_test.ipynb#W3sZmlsZQ%3D%3D?line=2'>3</a>\u001b[0m \u001b[39mimport\u001b[39;00m \u001b[39mmoderngl_window\u001b[39;00m \u001b[39mas\u001b[39;00m \u001b[39mmglw\u001b[39;00m\n\u001b[1;32m----> <a href='vscode-notebook-cell:/c%3A/Users/Soham%27s%20laptop/Documents/info_projekt/opengl_test.ipynb#W3sZmlsZQ%3D%3D?line=5'>6</a>\u001b[0m \u001b[39mclass\u001b[39;00m \u001b[39mExample\u001b[39;00m(mglw\u001b[39m.\u001b[39mWindowConfig):\n\u001b[0;32m      <a href='vscode-notebook-cell:/c%3A/Users/Soham%27s%20laptop/Documents/info_projekt/opengl_test.ipynb#W3sZmlsZQ%3D%3D?line=6'>7</a>\u001b[0m     gl_version \u001b[39m=\u001b[39m (\u001b[39m3\u001b[39m, \u001b[39m3\u001b[39m)\n\u001b[0;32m      <a href='vscode-notebook-cell:/c%3A/Users/Soham%27s%20laptop/Documents/info_projekt/opengl_test.ipynb#W3sZmlsZQ%3D%3D?line=7'>8</a>\u001b[0m     title \u001b[39m=\u001b[39m \u001b[39m\"\u001b[39m\u001b[39mModernGL Example\u001b[39m\u001b[39m\"\u001b[39m\n",
      "\u001b[1;32mc:\\Users\\Soham's laptop\\Documents\\info_projekt\\opengl_test.ipynb Cell 1\u001b[0m in \u001b[0;36mExample\u001b[1;34m()\u001b[0m\n\u001b[0;32m     <a href='vscode-notebook-cell:/c%3A/Users/Soham%27s%20laptop/Documents/info_projekt/opengl_test.ipynb#W3sZmlsZQ%3D%3D?line=9'>10</a>\u001b[0m aspect_ratio \u001b[39m=\u001b[39m \u001b[39m16\u001b[39m \u001b[39m/\u001b[39m \u001b[39m9\u001b[39m\n\u001b[0;32m     <a href='vscode-notebook-cell:/c%3A/Users/Soham%27s%20laptop/Documents/info_projekt/opengl_test.ipynb#W3sZmlsZQ%3D%3D?line=10'>11</a>\u001b[0m resizable \u001b[39m=\u001b[39m \u001b[39mTrue\u001b[39;00m\n\u001b[1;32m---> <a href='vscode-notebook-cell:/c%3A/Users/Soham%27s%20laptop/Documents/info_projekt/opengl_test.ipynb#W3sZmlsZQ%3D%3D?line=12'>13</a>\u001b[0m resource_dir \u001b[39m=\u001b[39m os\u001b[39m.\u001b[39mpath\u001b[39m.\u001b[39mnormpath(os\u001b[39m.\u001b[39mpath\u001b[39m.\u001b[39mjoin(\u001b[39m__file__\u001b[39;49m, \u001b[39m'\u001b[39m\u001b[39m../../data\u001b[39m\u001b[39m'\u001b[39m))\n",
      "\u001b[1;31mNameError\u001b[0m: name '__file__' is not defined"
     ]
    }
   ],
   "source": [
    "import os\n",
    "\n",
    "import moderngl_window as mglw\n",
    "\n",
    "\n",
    "class Example(mglw.WindowConfig):\n",
    "    gl_version = (3, 3)\n",
    "    title = \"ModernGL Example\"\n",
    "    window_size = (1280, 720)\n",
    "    aspect_ratio = 16 / 9\n",
    "    resizable = True\n",
    "\n",
    "    resource_dir = os.path.normpath(os.path.join(__file__, '../../data'))\n",
    "\n",
    "    \n",
    "class Example(_example.Example):\n",
    "    title = \"Simple 2D Example\"\n",
    "\n",
    "    STATIC_COLOR_MODE = 0\n",
    "    ATTRIB_COLOR_MODE = 1\n",
    "    TEXTURE_MODE = 2\n",
    "\n",
    "    def __init__(self, **kwargs):\n",
    "        super().__init__(**kwargs)\n",
    "\n",
    "        self.prog = self.ctx.program(\n",
    "            vertex_shader='''\n",
    "                #version 330\n",
    "\n",
    "                in vec2 in_vert;\n",
    "                in vec3 in_color;\n",
    "                in vec2 in_text;\n",
    "\n",
    "                out vec3 v_color;\n",
    "                out vec2 v_text;\n",
    "\n",
    "                void main() {\n",
    "                    gl_Position = vec4(in_vert, 0.0, 1.0);\n",
    "                    v_color = in_color;\n",
    "                    v_text = in_text;\n",
    "                }\n",
    "            ''',\n",
    "            fragment_shader='''\n",
    "                #version 330\n",
    "\n",
    "                uniform sampler2D Texture;\n",
    "                uniform int RenderMode;\n",
    "                uniform vec3 Color;\n",
    "\n",
    "                in vec3 v_color;\n",
    "                in vec2 v_text;\n",
    "\n",
    "                out vec4 f_color;\n",
    "\n",
    "                void main() {\n",
    "                    if (RenderMode == 0) {\n",
    "                        f_color = vec4(Color, 1.0);\n",
    "                    } else if (RenderMode == 1) {\n",
    "                        f_color = vec4(v_color, 1.0);\n",
    "                    } else if (RenderMode == 2) {\n",
    "                        f_color = texture(Texture, v_text);\n",
    "                    }\n",
    "                }\n",
    "            ''',\n",
    "        )"
   ]
  },
  {
   "cell_type": "code",
   "execution_count": 4,
   "metadata": {},
   "outputs": [
    {
     "ename": "NameError",
     "evalue": "name '__file__' is not defined",
     "output_type": "error",
     "traceback": [
      "\u001b[1;31m---------------------------------------------------------------------------\u001b[0m",
      "\u001b[1;31mNameError\u001b[0m                                 Traceback (most recent call last)",
      "\u001b[1;32mc:\\Users\\Soham's laptop\\Documents\\info_projekt\\opengl_test.ipynb Cell 2\u001b[0m in \u001b[0;36m<cell line: 1>\u001b[1;34m()\u001b[0m\n\u001b[1;32m----> <a href='vscode-notebook-cell:/c%3A/Users/Soham%27s%20laptop/Documents/info_projekt/opengl_test.ipynb#W4sZmlsZQ%3D%3D?line=0'>1</a>\u001b[0m \u001b[39m__file__\u001b[39;49m\n",
      "\u001b[1;31mNameError\u001b[0m: name '__file__' is not defined"
     ]
    }
   ],
   "source": [
    "__file__"
   ]
  }
 ],
 "metadata": {
  "kernelspec": {
   "display_name": "Python 3.8.13 ('info-projekt')",
   "language": "python",
   "name": "python3"
  },
  "language_info": {
   "codemirror_mode": {
    "name": "ipython",
    "version": 3
   },
   "file_extension": ".py",
   "mimetype": "text/x-python",
   "name": "python",
   "nbconvert_exporter": "python",
   "pygments_lexer": "ipython3",
   "version": "3.8.13"
  },
  "orig_nbformat": 4,
  "vscode": {
   "interpreter": {
    "hash": "f12aa137a086ebd4796268041a76e2c7192ee6d13f5cb287a1e742db538ee754"
   }
  }
 },
 "nbformat": 4,
 "nbformat_minor": 2
}
